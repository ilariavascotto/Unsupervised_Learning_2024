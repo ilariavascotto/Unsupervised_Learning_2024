{
 "cells": [
  {
   "attachments": {},
   "cell_type": "markdown",
   "metadata": {},
   "source": [
    "## Lab 1: Data Generation and Visualization\n",
    "\n",
    "These random datasets will be useful in later laboratories to test some of the algorithms seen in class.\n",
    "\n",
    "Try to solve the following exercises using only the ```numpy``` and ```matplotlib``` python libraries."
   ]
  },
  {
   "cell_type": "code",
   "execution_count": 1,
   "metadata": {},
   "outputs": [],
   "source": [
    "import numpy as np\n",
    "import matplotlib.pyplot as plt"
   ]
  },
  {
   "attachments": {},
   "cell_type": "markdown",
   "metadata": {},
   "source": [
    "# Exercise 1: Gaussian\n",
    "- Generate a dataset drawn from two independent Gaussians, each of which represents a class. You are free to select the number of desired datapoints, the mean and the variance of the two distributions. \n",
    "- Flip randomly a percentage of the labels to introduce some noise and plot the results. \n",
    "\n",
    "Given the binary classification setting we are considering, a flip implies that a point in class 0 will be assigned to class 1 and viceversa. "
   ]
  },
  {
   "cell_type": "code",
   "execution_count": 2,
   "metadata": {},
   "outputs": [],
   "source": [
    "def mixGauss(means, sigmas, n):\n",
    "    \"\"\"\n",
    "    Parameters:\n",
    "    means: matrix/list of float of dimension n_classes x dim_data\n",
    "        Means of the Gaussian functions\n",
    "    sigmas: array/list of float of dimension n_classses\n",
    "        Standard deviation of the Gaussian functions\n",
    "    n: int\n",
    "        Number of points for each class\n",
    "    \"\"\"\n",
    "    means = np.array(means)\n",
    "    sigmas = np.array(sigmas)\n",
    "    \n",
    "    dim = np.shape(means)[1] \n",
    "    num_classes = sigmas.size\n",
    "    \n",
    "    data = np.full(fill_value= np.inf, shape=(n*num_classes, dim))\n",
    "    labels = np.zeros(n*num_classes)\n",
    "\n",
    "    for i, sigma in enumerate(sigmas):\n",
    "        data[i*n:(i+1)*n] = np.random.multivariate_normal(mean=means[i], cov = np.eye(dim)*sigmas[i]**2, size=n)\n",
    "        labels[i*n:(i+1)*n] = i\n",
    "    \n",
    "    return data, labels"
   ]
  },
  {
   "cell_type": "code",
   "execution_count": 3,
   "metadata": {},
   "outputs": [],
   "source": [
    "means = [[3,0], [0,6]] #(x1,y1), (x2,y2)\n",
    "sigmas=[0.9, 0.9] #(sigma1, sigma2)\n",
    "n=100\n",
    "\n",
    "X, labels = mixGauss(means, sigmas, n)"
   ]
  },
  {
   "cell_type": "code",
   "execution_count": null,
   "metadata": {},
   "outputs": [],
   "source": [
    "fig = plt.figure(figsize=(10,8))\n",
    "plt.scatter(X[:,0], X[:,1], s=70, c=labels)\n",
    "plt.show()"
   ]
  },
  {
   "cell_type": "code",
   "execution_count": 5,
   "metadata": {},
   "outputs": [],
   "source": [
    "def labelsnoise(p, labels):\n",
    "    \"\"\"\n",
    "    Parameters:\n",
    "    p: float\n",
    "        Percentage of labels to flip\n",
    "    labels: array of int of dimension n_points\n",
    "        Array containing label indices\n",
    "    \"\"\"\n",
    "    n = np.shape(labels)[0]\n",
    "    noisylabels = np.copy(np.squeeze(labels))\n",
    "\n",
    "    n_flips = int(np.floor(n*p))\n",
    "    idx_flip = np.random.choice(n, size = n_flips, replace=False) #without replacement\n",
    "\n",
    "    noisylabels[idx_flip] = 1-noisylabels[idx_flip] #labels are 0 and 1\n",
    "    return noisylabels"
   ]
  },
  {
   "cell_type": "code",
   "execution_count": null,
   "metadata": {},
   "outputs": [],
   "source": [
    "labels"
   ]
  },
  {
   "cell_type": "code",
   "execution_count": null,
   "metadata": {},
   "outputs": [],
   "source": [
    "noisy_labels = labelsnoise(0.1, labels)\n",
    "noisy_labels"
   ]
  },
  {
   "cell_type": "code",
   "execution_count": null,
   "metadata": {},
   "outputs": [],
   "source": [
    "fig = plt.figure(figsize=(10,8))\n",
    "plt.scatter(X[:,0], X[:,1], s=70, c=noisy_labels)\n",
    "plt.show()"
   ]
  },
  {
   "cell_type": "code",
   "execution_count": 9,
   "metadata": {},
   "outputs": [],
   "source": [
    "means = [[3,0,-2], [0,6,2]]\n",
    "sigmas=[0.9, 0.9]\n",
    "n=1000\n",
    "\n",
    "X, labels = mixGauss(means, sigmas, n)\n",
    "\n",
    "noisy_labels = labelsnoise(0.1, labels)"
   ]
  },
  {
   "cell_type": "code",
   "execution_count": null,
   "metadata": {},
   "outputs": [],
   "source": [
    "plt.figure(figsize=(12,10))\n",
    "axes = plt.axes(projection='3d')\n",
    "axes.scatter3D(X[:,0], X[:,1], X[:,2], c=noisy_labels)\n",
    "\n",
    "axes.set_xlabel('x')\n",
    "axes.set_ylabel('y')\n",
    "axes.set_zlabel('z')\n",
    "axes.view_init(0,15)\n",
    "\n",
    "plt.show()"
   ]
  },
  {
   "attachments": {},
   "cell_type": "markdown",
   "metadata": {},
   "source": [
    "## Exercise 2: Swiss roll \n",
    "The Swiss Roll is defined by the following mapping:\n",
    "$$x = \\phi\\cos(\\phi) , y= \\phi\\sin(\\phi) , z = \\psi$$\n",
    "with $\\phi \\in(1.5\\pi, 4.5\\pi)$ and $\\psi \\in(0,10)$\n",
    "\n",
    "\n",
    "Create the dataset of $n=1000$ points and plot them both in 2d and 3d."
   ]
  },
  {
   "cell_type": "code",
   "execution_count": 11,
   "metadata": {},
   "outputs": [],
   "source": [
    "def swiss_roll(n):\n",
    "    \"\"\"\n",
    "    Parameters:\n",
    "    n: int\n",
    "        Number of points to generate\"\"\"\n",
    "    \n",
    "    data = np.zeros((n,3))\n",
    "    phi = np.random.uniform(low=1.5*np.pi, high=4.5*np.pi, size=n) \n",
    "    psi = np.random.uniform(0,10,n)\n",
    "            \n",
    "    data[:,0]=phi*np.cos(phi) #x coordinate\n",
    "    data[:,1]=phi*np.sin(phi) #y coordinate\n",
    "    data[:,2]=psi #z coordinate\n",
    "    return data"
   ]
  },
  {
   "cell_type": "code",
   "execution_count": 12,
   "metadata": {},
   "outputs": [],
   "source": [
    "X = swiss_roll(5000)"
   ]
  },
  {
   "cell_type": "code",
   "execution_count": null,
   "metadata": {},
   "outputs": [],
   "source": [
    "plt.figure(figsize=(12,10))\n",
    "axes = plt.axes(projection='3d')\n",
    "axes.scatter3D(X[:,0], X[:,1], X[:,2], c=X[:,0])\n",
    "\n",
    "axes.set_xlabel('x')\n",
    "axes.set_ylabel('y')\n",
    "axes.set_zlabel('z')\n",
    "\n",
    "#axes.view_init(45, 45) #(elevation, azimuth angle)\n",
    "\n",
    "plt.show()"
   ]
  },
  {
   "attachments": {},
   "cell_type": "markdown",
   "metadata": {},
   "source": [
    "## Exercise 3: Klein bottle\n",
    "Find the equation describing the Klein bottle problem. Generate a dataset and plot it as in Exercise 2.\n",
    "\n",
    "$$x = -\\cfrac{2}{15}\\cos u \\left(3\\cos v -30\\sin u +90\\cos^4 u\\sin u -60\\cos^6 u\\sin u +5\\cos u\\cos v\\sin u\\right)$$\n",
    "$$y = -\\cfrac{1}{15}\\sin u \\left(3\\cos v -3\\cos^2 u\\cos v -48\\cos^4 u\\cos v +48\\cos^6 u\\cos v-60\\sin u +5\\cos u\\cos v\\sin u -5\\cos^3 u \\cos v\\sin u - 80 \\cos^5 u \\cos v\\sin u +80\\cos^7 u \\cos v \\sin u \\right)$$\n",
    "$$z = \\cfrac{2}{15} \\left(3 + 5\\cos u \\sin u \\right)\\sin v$$\n",
    "\n",
    "with $0 \\leq u < \\pi$ and $0 \\leq v < 2\\pi$"
   ]
  },
  {
   "cell_type": "code",
   "execution_count": 14,
   "metadata": {},
   "outputs": [],
   "source": [
    "def klein_bottle(n):\n",
    "    \"\"\"\n",
    "    Parameters:\n",
    "    n: int\n",
    "        Number of points to generate\"\"\"\n",
    "    \n",
    "    data = np.zeros((n,3))\n",
    "    u = np.random.uniform(low=0, high=np.pi, size=n)\n",
    "    v = np.random.uniform(low=0, high=2*np.pi, size=n)\n",
    "            \n",
    "    data[:,0]=-2/15*np.cos(u)*(3*np.cos(v)+30*np.sin(u)+90*np.cos(u)**4*np.sin(u)-60*np.cos(u)**6*np.sin(u)+5*np.cos(u)*np.cos(v)*np.sin(u))\n",
    "    data[:,1]=+1/15*np.sin(u)*(3*np.cos(v)+3*np.cos(u)**2*np.cos(v)-48*np.cos(u)**4*np.cos(v)+48*np.cos(u)**6*np.cos(v)-60*np.sin(u)+5*np.cos(u)*np.cos(v)*np.sin(u)-5*np.cos(u)**3*np.cos(v)*np.sin(u)-80*np.cos(u)**5*np.cos(v)*np.sin(u)+80*np.cos(u)**7*np.cos(v)*np.sin(u))\n",
    "    data[:,2]=2/15*(3+5*np.cos(u)*np.sin(u))*np.sin(v)\n",
    "\n",
    "    return data"
   ]
  },
  {
   "cell_type": "code",
   "execution_count": 15,
   "metadata": {},
   "outputs": [],
   "source": [
    "X = klein_bottle(5000)"
   ]
  },
  {
   "cell_type": "code",
   "execution_count": null,
   "metadata": {},
   "outputs": [],
   "source": [
    "plt.figure(figsize=(12,10))\n",
    "axes = plt.axes(projection='3d')\n",
    "axes.scatter3D(X[:,0], X[:,1], X[:,2], c=X[:,0])\n",
    "\n",
    "axes.set_xlabel('x')\n",
    "axes.set_ylabel('y')\n",
    "axes.set_zlabel('z')\n",
    "axes.view_init(15, 105) #(elevation, azimuth angle)\n",
    "\n",
    "plt.show()"
   ]
  }
 ],
 "metadata": {
  "kernelspec": {
   "display_name": "tesi",
   "language": "python",
   "name": "python3"
  },
  "language_info": {
   "codemirror_mode": {
    "name": "ipython",
    "version": 3
   },
   "file_extension": ".py",
   "mimetype": "text/x-python",
   "name": "python",
   "nbconvert_exporter": "python",
   "pygments_lexer": "ipython3",
   "version": "3.11.3"
  },
  "orig_nbformat": 4,
  "vscode": {
   "interpreter": {
    "hash": "a90824e0da0d3195a5ca7ddd04716d63e3bb9cfe50d3251f25824867b92d1cc4"
   }
  }
 },
 "nbformat": 4,
 "nbformat_minor": 2
}
