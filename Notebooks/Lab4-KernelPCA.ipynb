{
 "cells": [
  {
   "attachments": {},
   "cell_type": "markdown",
   "metadata": {},
   "source": [
    "## Lab 4: Kernel PCA\n",
    "You can use external libraries for linear algebra operations but you are expected to write your own algorithms."
   ]
  },
  {
   "cell_type": "code",
   "execution_count": 1,
   "metadata": {},
   "outputs": [],
   "source": [
    "import numpy as np\n",
    "import pandas as pd\n",
    "import sklearn\n",
    "import matplotlib.pyplot as plt"
   ]
  },
  {
   "attachments": {},
   "cell_type": "markdown",
   "metadata": {},
   "source": [
    "# Exercise 1\n",
    "Use the ```data_kPCA_2023.txt``` and ```labels_kPCA_2023.txt``` uploaded in the ```Datasets``` folder. The first file contains the variables describing the data, while the second one contains the labels of the classes associated to it. "
   ]
  },
  {
   "cell_type": "code",
   "execution_count": 2,
   "metadata": {},
   "outputs": [],
   "source": [
    "X = np.genfromtxt(\"../Datasets/kPCA_data_2024.txt\")\n",
    "y = np.genfromtxt(\"../Datasets/kPCA_labels_2024.txt\")"
   ]
  },
  {
   "cell_type": "code",
   "execution_count": null,
   "metadata": {},
   "outputs": [],
   "source": [
    "X.shape"
   ]
  },
  {
   "cell_type": "code",
   "execution_count": null,
   "metadata": {},
   "outputs": [],
   "source": [
    "X[0]"
   ]
  },
  {
   "cell_type": "code",
   "execution_count": null,
   "metadata": {},
   "outputs": [],
   "source": [
    "y[0]"
   ]
  },
  {
   "attachments": {},
   "cell_type": "markdown",
   "metadata": {},
   "source": [
    "- Apply **your own** implementation of PCA to the dataset and plot the eigenvalue spectum."
   ]
  },
  {
   "cell_type": "code",
   "execution_count": 6,
   "metadata": {},
   "outputs": [],
   "source": [
    "X = (X-X.mean())/X.std()"
   ]
  },
  {
   "cell_type": "code",
   "execution_count": 7,
   "metadata": {},
   "outputs": [],
   "source": [
    "from sklearn.decomposition import PCA\n",
    "#as per the previous labs, here we'll use the sklearn version"
   ]
  },
  {
   "cell_type": "code",
   "execution_count": 8,
   "metadata": {},
   "outputs": [],
   "source": [
    "pca = PCA()\n",
    "X_new = pca.fit_transform(X)"
   ]
  },
  {
   "cell_type": "code",
   "execution_count": null,
   "metadata": {},
   "outputs": [],
   "source": [
    "plt.figure(figsize=(10,8))\n",
    "plt.plot(pca.singular_values_, 'o-')\n",
    "plt.title(\"Eigenvalues spectrum\")\n",
    "plt.show()"
   ]
  },
  {
   "attachments": {},
   "cell_type": "markdown",
   "metadata": {},
   "source": [
    "- Project the data in the first two principal components and color by class. "
   ]
  },
  {
   "cell_type": "code",
   "execution_count": null,
   "metadata": {},
   "outputs": [],
   "source": [
    "plt.figure(figsize=(10,8))\n",
    "plt.scatter(X_new[:,0], X_new[:,1], c=y, s=70)\n",
    "plt.show()"
   ]
  },
  {
   "attachments": {},
   "cell_type": "markdown",
   "metadata": {},
   "source": [
    "- Implement your own version of Kernel PCA. \n",
    "- Apply Kernel PCA to the dataset. Test both a Gaussian kernel with width $\\sigma \\in [0.05, 2.0]$ and a polynomial kernel varying the value of $\\delta \\in \\mathbf{N}$. \n",
    "\n",
    "Note: use the second version of the polynomial kernel introduced in class (the one with \"$1 + \\dots$\")\n",
    "\n",
    "- Plot the transformed data in 2d and 3d for the different kernels."
   ]
  },
  {
   "cell_type": "code",
   "execution_count": 11,
   "metadata": {},
   "outputs": [],
   "source": [
    "from sklearn.decomposition import KernelPCA"
   ]
  },
  {
   "cell_type": "code",
   "execution_count": 12,
   "metadata": {},
   "outputs": [],
   "source": [
    "kpca=KernelPCA()\n",
    "#kernel{‘linear’, ‘poly’, ‘rbf’, ‘sigmoid’, ‘cosine’, ‘precomputed’} or callable, default=’linear’"
   ]
  },
  {
   "attachments": {},
   "cell_type": "markdown",
   "metadata": {},
   "source": [
    "Looking at the [documentation](https://scikit-learn.org/stable/modules/metrics.html#metrics) we find the following: \n",
    "- *RBF (Radial Basis Function) kernel*: $k(x,y)=\\exp(-\\gamma ||x-y||^2)$. If $\\gamma = \\sigma^{-2}$ it is known as the Gaussian kernel of variance $\\sigma^2$.\n",
    "\n",
    "\n",
    "- *Polynomial kernel* : $k(x,y)=(\\gamma x^T y +c_0)^d$ with $d$ the degree of the kernel. If $c_0=0$ the kernel is said to be homogeneous.\n",
    "\n",
    "Let us consider the appropriate parameters for the ```rbf ``` and ```poly ``` kernels in the  ```sklearn ``` implementation."
   ]
  },
  {
   "cell_type": "code",
   "execution_count": null,
   "metadata": {},
   "outputs": [],
   "source": [
    "for sigma in (0.05, 0.25, 0.5, 1, 1.2, 2):\n",
    "    kpca = KernelPCA(n_components =3, kernel='rbf', gamma=(sigma)**(-2))\n",
    "    #k(x,y)= -(||x-y||^2)/(sigma^2)\n",
    "    X_new = kpca.fit_transform(X)\n",
    "        \n",
    "    fig = plt.figure(figsize=(20,10))\n",
    "    fig.suptitle(f\"RBF kernel with sigma={sigma}\", fontsize=30)\n",
    "    ax = fig.add_subplot(1,2,1)\n",
    "    ax.scatter(X_new[:,0], X_new[:,1], c=y, s=70)\n",
    "    \n",
    "    ax = fig.add_subplot(1,2,2, projection='3d')\n",
    "    ax.scatter3D(X_new[:,0], X_new[:,1], X_new[:,2], c=y, s=70)\n",
    "    plt.show()"
   ]
  },
  {
   "cell_type": "code",
   "execution_count": null,
   "metadata": {},
   "outputs": [],
   "source": [
    "for delta in (1,2,3,4,5):\n",
    "    kpca = KernelPCA(n_components =3, kernel='poly', degree=delta, gamma=1, coef0=1)\n",
    "    #k(x,y)=((x^T)y +1)^d\n",
    "    X_new = kpca.fit_transform(X)\n",
    "        \n",
    "    fig = plt.figure(figsize=(20,10))\n",
    "    fig.suptitle(f\"Polynomial kernel with degree d={delta}\", fontsize=30)\n",
    "    ax = fig.add_subplot(1,2,1)\n",
    "    ax.scatter(X_new[:,0], X_new[:,1], c=y, s=70)\n",
    "    \n",
    "    ax = fig.add_subplot(1,2,2, projection='3d')\n",
    "    ax.scatter3D(X_new[:,0], X_new[:,1], X_new[:,2], c=y)\n",
    "    plt.show()"
   ]
  }
 ],
 "metadata": {
  "kernelspec": {
   "display_name": "ul2023",
   "language": "python",
   "name": "python3"
  },
  "language_info": {
   "codemirror_mode": {
    "name": "ipython",
    "version": 3
   },
   "file_extension": ".py",
   "mimetype": "text/x-python",
   "name": "python",
   "nbconvert_exporter": "python",
   "pygments_lexer": "ipython3",
   "version": "3.11.3"
  },
  "orig_nbformat": 4
 },
 "nbformat": 4,
 "nbformat_minor": 2
}
