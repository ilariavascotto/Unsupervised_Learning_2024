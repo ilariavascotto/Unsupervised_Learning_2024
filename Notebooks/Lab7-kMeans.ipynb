{
 "cells": [
  {
   "attachments": {},
   "cell_type": "markdown",
   "metadata": {},
   "source": [
    "## Lab 7: $k$-means\n",
    "You can use external libraries for linear algebra operations but you are expected to write your own algorithms."
   ]
  },
  {
   "cell_type": "code",
   "execution_count": null,
   "metadata": {},
   "outputs": [],
   "source": [
    "import numpy as np\n",
    "import pandas as pd\n",
    "import matplotlib.pyplot as plt\n",
    "from sklearn.preprocessing import OrdinalEncoder"
   ]
  },
  {
   "attachments": {},
   "cell_type": "markdown",
   "metadata": {},
   "source": [
    "# Exercise 1\n",
    "- Download the ```breast_cancer.csv``` dataset and preprocess it by using ```sklearn.preprocessing.OrdinalEncoder``` to properly deal with the categorical variables. "
   ]
  },
  {
   "cell_type": "code",
   "execution_count": null,
   "metadata": {},
   "outputs": [],
   "source": [
    "df = pd.read_csv(\"../Datasets/breast_cancer.csv\", header=None)\n",
    "df.head()\n",
    "\n",
    "feature_names = ['age', ' menopause', 'tumor-size','inv-nodes', 'node-caps', 'deg-malign', ' breast', 'breast-quad', 'irradiat']\n",
    "#Attribute Information derived from https://archive.ics.uci.edu/ml/datasets/Breast+Cancer\n",
    "#   0. age: 10-19, 20-29, 30-39, 40-49, 50-59, 60-69, 70-79, 80-89, 90-99.\n",
    "#   1. menopause: lt40, ge40, premeno.\n",
    "#   2. tumor-size: 0-4, 5-9, 10-14, 15-19, 20-24, 25-29, 30-34, 35-39, 40-44,\n",
    "#                  45-49, 50-54, 55-59.\n",
    "#   3. inv-nodes: 0-2, 3-5, 6-8, 9-11, 12-14, 15-17, 18-20, 21-23, 24-26,\n",
    "#                 27-29, 30-32, 33-35, 36-39.\n",
    "#   4. node-caps: yes, no.\n",
    "#   5. deg-malig: 1, 2, 3.\n",
    "#   6. breast: left, right.\n",
    "#   7. breast-quad: left-up, left-low, right-up,\tright-low, central.\n",
    "#   8. irradiat:\tyes, no.\n",
    "#   9. Class: no-recurrence-events, recurrence-events"
   ]
  },
  {
   "cell_type": "code",
   "execution_count": null,
   "metadata": {},
   "outputs": [],
   "source": [
    "df = df.astype(str)"
   ]
  },
  {
   "cell_type": "code",
   "execution_count": null,
   "metadata": {},
   "outputs": [],
   "source": [
    "encoder = OrdinalEncoder()\n",
    "encoder.fit(np.array(df))\n",
    "data = encoder.transform(df)"
   ]
  },
  {
   "cell_type": "code",
   "execution_count": null,
   "metadata": {},
   "outputs": [],
   "source": [
    "data"
   ]
  },
  {
   "cell_type": "code",
   "execution_count": null,
   "metadata": {},
   "outputs": [],
   "source": [
    "X = data[:,0:9]\n",
    "y = data[:,9] #in this way we have preprocessed also the response variable all at once"
   ]
  },
  {
   "attachments": {},
   "cell_type": "markdown",
   "metadata": {},
   "source": [
    "- Write your own function to compute the Mutual Information Criterion.\n",
    "- Compute the Mutual Information between the covariates and the response variable (stored in the last column). Which features appear to be the most significant?"
   ]
  },
  {
   "cell_type": "code",
   "execution_count": null,
   "metadata": {},
   "outputs": [],
   "source": [
    "from sklearn.feature_selection import mutual_info_classif"
   ]
  },
  {
   "cell_type": "code",
   "execution_count": null,
   "metadata": {},
   "outputs": [],
   "source": [
    "MI = mutual_info_classif(X, y, discrete_features=True) "
   ]
  },
  {
   "cell_type": "code",
   "execution_count": null,
   "metadata": {},
   "outputs": [],
   "source": [
    "MI"
   ]
  },
  {
   "cell_type": "code",
   "execution_count": null,
   "metadata": {},
   "outputs": [],
   "source": [
    "plt.figure(figsize=(10,8))\n",
    "\n",
    "plt.bar(feature_names, MI)\n",
    "plt.xticks(rotation=30)\n",
    "plt.title(\"Mutual Information between the features and the response variable\")\n",
    "plt.show()"
   ]
  },
  {
   "attachments": {},
   "cell_type": "markdown",
   "metadata": {},
   "source": [
    "# Exercise 2\n",
    "- Use the dataset ```s3.txt``` available in the ```Datasets``` folder."
   ]
  },
  {
   "cell_type": "code",
   "execution_count": null,
   "metadata": {},
   "outputs": [],
   "source": [
    "s3 = np.genfromtxt(\"../Datasets/s3.txt\")\n",
    "s3"
   ]
  },
  {
   "cell_type": "code",
   "execution_count": null,
   "metadata": {},
   "outputs": [],
   "source": [
    "s3.shape"
   ]
  },
  {
   "cell_type": "code",
   "execution_count": null,
   "metadata": {},
   "outputs": [],
   "source": [
    "plt.figure(figsize=(10,8))\n",
    "\n",
    "plt.scatter(s3[:,0], s3[:,1])\n",
    "plt.title(\"Original dataset\")\n",
    "plt.show()"
   ]
  },
  {
   "attachments": {},
   "cell_type": "markdown",
   "metadata": {},
   "source": [
    "- Write your own implementation of the $k$-means clustering algorithm. \n",
    "- Test your implementation with 10 different inizializations and $k=15$."
   ]
  },
  {
   "cell_type": "code",
   "execution_count": null,
   "metadata": {},
   "outputs": [],
   "source": [
    "from sklearn.cluster import KMeans"
   ]
  },
  {
   "cell_type": "code",
   "execution_count": null,
   "metadata": {},
   "outputs": [],
   "source": [
    "kmeans = KMeans(n_clusters=15, init='random', n_init=1)\n",
    "# init = {'k-means++', 'random'}, callable or array-like of shape (n_clusters, n_features)\n",
    "# default: 'k-means++'\n",
    "# 'random': choose n_clusters observations (rows) at random from data for the initial centroids\n",
    "\n",
    "# n_init: 'auto' or int, default n_init=10\n",
    "# Number of times the k-means algorithm is run with different centroid seeds: The final result is the best output of n_init consecutive runs in terms of inertia.\n",
    "# n_init=10 if init='random'\n",
    "# n_init=1 if init='k-means++'"
   ]
  },
  {
   "cell_type": "code",
   "execution_count": null,
   "metadata": {},
   "outputs": [],
   "source": [
    "results = []\n",
    "\n",
    "for i in range(10):\n",
    "    kmeans = KMeans(n_clusters=15, init='random', n_init=1)\n",
    "    kmeans.fit(s3)\n",
    "    results.append((kmeans.inertia_, kmeans))\n",
    "\n",
    "\n",
    "#kmeans.inertia_ : sum of distances of samples to their closest cluster center"
   ]
  },
  {
   "cell_type": "code",
   "execution_count": null,
   "metadata": {},
   "outputs": [],
   "source": [
    "results"
   ]
  },
  {
   "attachments": {},
   "cell_type": "markdown",
   "metadata": {},
   "source": [
    "- Plot the clustering results for which the loss is, respectively, the highest and the lowest."
   ]
  },
  {
   "cell_type": "code",
   "execution_count": null,
   "metadata": {},
   "outputs": [],
   "source": [
    "sorted_results = sorted(results, key = lambda x : x[0])"
   ]
  },
  {
   "cell_type": "code",
   "execution_count": null,
   "metadata": {},
   "outputs": [],
   "source": [
    "sorted_results"
   ]
  },
  {
   "cell_type": "code",
   "execution_count": null,
   "metadata": {},
   "outputs": [],
   "source": [
    "kmeans_min = sorted_results[0][1]\n",
    "kmeans_max = sorted_results[len(sorted_results)-1][1]"
   ]
  },
  {
   "cell_type": "code",
   "execution_count": null,
   "metadata": {},
   "outputs": [],
   "source": [
    "labels_min= kmeans_min.labels_\n",
    "centers_min = kmeans_min.cluster_centers_"
   ]
  },
  {
   "cell_type": "code",
   "execution_count": null,
   "metadata": {},
   "outputs": [],
   "source": [
    "plt.figure(figsize=(10,8))\n",
    "\n",
    "plt.scatter(s3[:,0], s3[:,1], c=labels_min)\n",
    "plt.plot(centers_min[:,0], centers_min[:,1], 'ro')\n",
    "plt.title(\"Minimum inertia\")\n",
    "plt.show()"
   ]
  },
  {
   "cell_type": "code",
   "execution_count": null,
   "metadata": {},
   "outputs": [],
   "source": [
    "labels_max= kmeans_max.labels_\n",
    "centers_max = kmeans_max.cluster_centers_"
   ]
  },
  {
   "cell_type": "code",
   "execution_count": null,
   "metadata": {},
   "outputs": [],
   "source": [
    "plt.figure(figsize=(10,8))\n",
    "\n",
    "plt.scatter(s3[:,0], s3[:,1], c=labels_max)\n",
    "plt.plot(centers_max[:,0], centers_max[:,1], 'ro')\n",
    "plt.title(\"Maximum inertia\")\n",
    "plt.show()"
   ]
  }
 ],
 "metadata": {
  "kernelspec": {
   "display_name": "ul2023",
   "language": "python",
   "name": "python3"
  },
  "language_info": {
   "codemirror_mode": {
    "name": "ipython",
    "version": 3
   },
   "file_extension": ".py",
   "mimetype": "text/x-python",
   "name": "python",
   "nbconvert_exporter": "python",
   "pygments_lexer": "ipython3",
   "version": "3.11.3"
  },
  "orig_nbformat": 4
 },
 "nbformat": 4,
 "nbformat_minor": 2
}
