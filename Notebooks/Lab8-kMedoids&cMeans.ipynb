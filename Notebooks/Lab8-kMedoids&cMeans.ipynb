{
 "cells": [
  {
   "attachments": {},
   "cell_type": "markdown",
   "metadata": {},
   "source": [
    "## Lab 8: $k$-medoids and $c$-means\n",
    "You can use external libraries for linear algebra operations but you are expected to write your own algorithms."
   ]
  },
  {
   "cell_type": "code",
   "execution_count": null,
   "metadata": {},
   "outputs": [],
   "source": [
    "import numpy as np\n",
    "import pandas as pd\n",
    "import matplotlib.pyplot as plt"
   ]
  },
  {
   "attachments": {},
   "cell_type": "markdown",
   "metadata": {},
   "source": [
    "# Exercise 1\n",
    "Use the ```s3.txt``` dataset from the previous lab.\n",
    "1. Run **your** $k$-means code 20 times with $k=15$. Save the minimum, the maximum and the average values of the loss."
   ]
  },
  {
   "cell_type": "code",
   "execution_count": null,
   "metadata": {},
   "outputs": [],
   "source": [
    "s3 = np.genfromtxt(\"../Datasets/s3.txt\")\n",
    "print(s3.shape)\n",
    "print(s3)"
   ]
  },
  {
   "cell_type": "code",
   "execution_count": null,
   "metadata": {},
   "outputs": [],
   "source": [
    "plt.figure(figsize=(10,8))\n",
    "\n",
    "plt.scatter(s3[:,0], s3[:,1])\n",
    "plt.title(\"Original dataset\")\n",
    "plt.show()"
   ]
  },
  {
   "cell_type": "code",
   "execution_count": null,
   "metadata": {},
   "outputs": [],
   "source": [
    "from sklearn.cluster import KMeans"
   ]
  },
  {
   "cell_type": "code",
   "execution_count": null,
   "metadata": {},
   "outputs": [],
   "source": [
    "results = np.zeros(shape=20)\n",
    "\n",
    "for i in range(20):\n",
    "    kmeans = KMeans(n_clusters=15, init='random', n_init=1)\n",
    "    kmeans.fit(s3)\n",
    "    results[i] = kmeans.inertia_"
   ]
  },
  {
   "cell_type": "code",
   "execution_count": null,
   "metadata": {},
   "outputs": [],
   "source": [
    "results"
   ]
  },
  {
   "cell_type": "code",
   "execution_count": null,
   "metadata": {},
   "outputs": [],
   "source": [
    "kmeans_avg = np.mean(results)\n",
    "kmeans_min = np.min(results)\n",
    "kmeans_max = np.max(results)"
   ]
  },
  {
   "cell_type": "code",
   "execution_count": null,
   "metadata": {},
   "outputs": [],
   "source": [
    "print(f\"The average value of the loss is: {kmeans_avg} \\nThe minimum is {kmeans_min} while the maximum is {kmeans_max}\")"
   ]
  },
  {
   "attachments": {},
   "cell_type": "markdown",
   "metadata": {},
   "source": [
    "2. Modify your code such that it uses the $k$-means++ initialization. Perform the same experiment of point 1 and compare the obtained values."
   ]
  },
  {
   "cell_type": "code",
   "execution_count": null,
   "metadata": {},
   "outputs": [],
   "source": [
    "results = np.zeros(shape=20)\n",
    "\n",
    "for i in range(20):\n",
    "    kmeans_pp = KMeans(n_clusters=15, init='k-means++', n_init=1)\n",
    "    kmeans_pp.fit(s3)\n",
    "    results[i] = kmeans_pp.inertia_"
   ]
  },
  {
   "cell_type": "code",
   "execution_count": null,
   "metadata": {},
   "outputs": [],
   "source": [
    "results"
   ]
  },
  {
   "cell_type": "code",
   "execution_count": null,
   "metadata": {},
   "outputs": [],
   "source": [
    "kmeans_pp_avg = np.mean(results)\n",
    "kmeans_pp_min = np.min(results)\n",
    "kmeans_pp_max = np.max(results)"
   ]
  },
  {
   "cell_type": "code",
   "execution_count": null,
   "metadata": {},
   "outputs": [],
   "source": [
    "print(f\"The average value of the loss is: {kmeans_pp_avg} \\nThe minimum is {kmeans_pp_min} while the maximum is {kmeans_pp_max}\")"
   ]
  },
  {
   "cell_type": "code",
   "execution_count": null,
   "metadata": {},
   "outputs": [],
   "source": [
    "print(kmeans_avg > kmeans_pp_avg)\n",
    "print(kmeans_min > kmeans_pp_min)\n",
    "print(kmeans_max > kmeans_pp_max)"
   ]
  },
  {
   "attachments": {},
   "cell_type": "markdown",
   "metadata": {},
   "source": [
    "3. Build a scree plot by plotting the best (ie. the lowest) loss out of 20 runs for $k=2, \\dots, 20$ (with $k$-means++). What is the optimal value of $k$?"
   ]
  },
  {
   "cell_type": "code",
   "execution_count": null,
   "metadata": {},
   "outputs": [],
   "source": [
    "loss = []\n",
    "\n",
    "for k in range(2, 21):\n",
    "    results = np.zeros(shape=20)\n",
    "\n",
    "    for i in range(20):\n",
    "        kmeans_pp = KMeans(n_clusters=k, init='k-means++', n_init=1)\n",
    "        kmeans_pp.fit(s3)\n",
    "        results[i] = kmeans_pp.inertia_\n",
    "\n",
    "        #to avoid the loop\n",
    "        #kmeans = KMeans(n_clusters=k, initi='random', n_init=20).fit(s3)\n",
    "        #then loss.append(kmeans.inertia_)\n",
    "    \n",
    "    loss.append(np.min(results))"
   ]
  },
  {
   "cell_type": "code",
   "execution_count": null,
   "metadata": {},
   "outputs": [],
   "source": [
    "fig, ax = plt.subplots(1,2, figsize=(20,8))\n",
    "\n",
    "\n",
    "ax[0].plot(range(2,21), loss)\n",
    "ax[0].scatter(range(2,21),loss)\n",
    "ax[0].set_title(\"Scree plot (k-means++)\")\n",
    "\n",
    "ax[1].plot(range(2,21), np.log(loss))\n",
    "ax[1].scatter(range(2,21),np.log(loss))\n",
    "ax[1].set_title(\"Scree plot (k-means++) with logarithmic scale\")\n",
    "\n",
    "plt.show()"
   ]
  },
  {
   "attachments": {},
   "cell_type": "markdown",
   "metadata": {},
   "source": [
    "4. Modify your code to perform $k$-medoids. Repeat the assignment of point 3 with the new implementation.\n",
    "\n",
    "Note: [k-medoids documentation](https://python-kmedoids.readthedocs.io/en/latest/#)"
   ]
  },
  {
   "cell_type": "code",
   "execution_count": null,
   "metadata": {},
   "outputs": [],
   "source": [
    "from kmedoids import KMedoids #it has a sklearn-compatible API"
   ]
  },
  {
   "cell_type": "code",
   "execution_count": null,
   "metadata": {},
   "outputs": [],
   "source": [
    "loss = []\n",
    "\n",
    "for k in range(2, 21):\n",
    "    results = np.zeros(shape=20)\n",
    "\n",
    "    for i in range(20):\n",
    "        kmedoids= KMedoids(n_clusters=k, init=\"random\", metric=\"euclidean\")\n",
    "        kmedoids.fit(s3)\n",
    "        results[i] = kmedoids.inertia_\n",
    "    \n",
    "    loss.append(np.min(results))"
   ]
  },
  {
   "cell_type": "markdown",
   "metadata": {},
   "source": [
    "From the documentation of KMedoids, note that the  ```inertia_ ``` is computed as the sum of distances of samples to their closest cluster center.\n",
    "\n",
    "For the ```sklearn.cluster.KMeans``` instead, ```inertia_``` is computed as the sum of **squared** distances of samples to their closest cluster center, weighted by the sample weights if provided.\n",
    "\n",
    "The difference in the magnitude of the loss in the following plot is related to this difference in the implementations. For **your** implementation, use the loss function with the squared distances."
   ]
  },
  {
   "cell_type": "code",
   "execution_count": null,
   "metadata": {},
   "outputs": [],
   "source": [
    "plt.figure(figsize=(10,8))\n",
    "plt.plot(range(2,21), loss)\n",
    "plt.scatter(range(2,21), loss)\n",
    "plt.title(\"Scree plot (k-medoids)\")\n",
    "plt.show()"
   ]
  },
  {
   "attachments": {},
   "cell_type": "markdown",
   "metadata": {},
   "source": [
    "5. Modify your code to perform $c$-means. Repeat the assignment of point 3 with the new implementation.\n",
    "\n",
    "Note: [c-means documentation](https://pythonhosted.org/scikit-fuzzy/api/skfuzzy.cluster.html#cmeans)"
   ]
  },
  {
   "cell_type": "code",
   "execution_count": null,
   "metadata": {},
   "outputs": [],
   "source": [
    "from skfuzzy.cluster import cmeans\n",
    "\n",
    "# 'cntr': cluster centers \n",
    "# 'u' : final fuzzy c-partitioned matrix\n",
    "# 'u0': initial guess at fuzzy c-partitioned matrix (either 'init' or random guess)\n",
    "# 'd': final Euclidean distance matrix\n",
    "# 'jm': objective function history\n",
    "# 'p': number of iterations run\n",
    "# 'fpc': final fuzzy partition coefficient"
   ]
  },
  {
   "cell_type": "code",
   "execution_count": null,
   "metadata": {},
   "outputs": [],
   "source": [
    "loss = []\n",
    "\n",
    "for k in range(2, 21):\n",
    "    results = np.zeros(shape=20)\n",
    "\n",
    "    for i in range(20):\n",
    "        cntr, u, u0, d, jm, p, fpc = cmeans(data= s3.T, c=k, m=2, error = 0.005, maxiter=1000, init=None)\n",
    "        #NB 'data' must have shape num_features x num_points\n",
    "        results[i] = jm[p-1]    # 'jm' is the history of the objective function, 'p' is the number of performed iterations\n",
    "    loss.append(np.min(results))"
   ]
  },
  {
   "cell_type": "code",
   "execution_count": null,
   "metadata": {},
   "outputs": [],
   "source": [
    "plt.figure(figsize=(10,8))\n",
    "plt.plot(range(2,21), loss)\n",
    "plt.scatter(range(2,21), loss)\n",
    "plt.title(\"Scree plot (c-means)\")\n",
    "plt.show()"
   ]
  }
 ],
 "metadata": {
  "kernelspec": {
   "display_name": "ul2023",
   "language": "python",
   "name": "python3"
  },
  "language_info": {
   "codemirror_mode": {
    "name": "ipython",
    "version": 3
   },
   "file_extension": ".py",
   "mimetype": "text/x-python",
   "name": "python",
   "nbconvert_exporter": "python",
   "pygments_lexer": "ipython3",
   "version": "3.11.3"
  },
  "orig_nbformat": 4
 },
 "nbformat": 4,
 "nbformat_minor": 2
}
