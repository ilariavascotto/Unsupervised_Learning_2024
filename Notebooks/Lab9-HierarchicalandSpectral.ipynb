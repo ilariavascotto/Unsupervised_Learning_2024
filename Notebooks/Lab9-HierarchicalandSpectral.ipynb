{
 "cells": [
  {
   "attachments": {},
   "cell_type": "markdown",
   "metadata": {},
   "source": [
    "## Lab 9: Hierarchical and Spectral Clustering\n",
    "You can use external libraries for linear algebra operations but you are expected to write your own algorithms."
   ]
  },
  {
   "cell_type": "code",
   "execution_count": null,
   "metadata": {},
   "outputs": [],
   "source": [
    "import numpy as np\n",
    "import pandas as pd\n",
    "import matplotlib.pyplot as plt\n",
    "from sklearn.preprocessing import OrdinalEncoder\n",
    "\n",
    "import warnings\n",
    "warnings.filterwarnings('ignore')"
   ]
  },
  {
   "attachments": {},
   "cell_type": "markdown",
   "metadata": {},
   "source": [
    "# Exercise 1\n",
    "Use the ```iris``` dataset available at [this link](https://archive.ics.uci.edu/dataset/53/iris).\n",
    "- Apply **your own** PCA function to the dataset. Plot the data in two dimensions, coloring by class."
   ]
  },
  {
   "cell_type": "code",
   "execution_count": null,
   "metadata": {},
   "outputs": [],
   "source": [
    "iris = pd.read_csv(\"../Datasets/iris.data\", sep=\",\", header=None, names = [\"sepal_lenght\", \"sepal_width\", \"petal_lenght\", \"petal_width\", \"class\"])\n",
    "\n",
    "# Attribute Information:\n",
    "# 0. sepal length in cm\n",
    "# 1. sepal width in cm\n",
    "# 2. petal length in cm\n",
    "# 3. petal width in cm\n",
    "# 4. class: \n",
    "#     -- Iris Setosa\n",
    "#     -- Iris Versicolour\n",
    "#     -- Iris Virginica\n"
   ]
  },
  {
   "cell_type": "code",
   "execution_count": null,
   "metadata": {},
   "outputs": [],
   "source": [
    "print(iris.shape)\n",
    "print(iris)"
   ]
  },
  {
   "cell_type": "code",
   "execution_count": null,
   "metadata": {},
   "outputs": [],
   "source": [
    "label = iris[\"class\"]\n",
    "X = iris.drop(\"class\", axis=1)"
   ]
  },
  {
   "cell_type": "code",
   "execution_count": null,
   "metadata": {},
   "outputs": [],
   "source": [
    "encoder = OrdinalEncoder()\n",
    "y=np.array(label)\n",
    "encoder.fit(y.reshape(-1,1))\n",
    "y = encoder.transform(y.reshape(-1,1))"
   ]
  },
  {
   "cell_type": "code",
   "execution_count": null,
   "metadata": {},
   "outputs": [],
   "source": [
    "from sklearn.decomposition import PCA"
   ]
  },
  {
   "cell_type": "code",
   "execution_count": null,
   "metadata": {},
   "outputs": [],
   "source": [
    "pca = PCA(n_components=2)\n",
    "X_new = pca.fit_transform(X)"
   ]
  },
  {
   "cell_type": "code",
   "execution_count": null,
   "metadata": {},
   "outputs": [],
   "source": [
    "plt.figure(figsize=(10,8))\n",
    "plt.scatter(X_new[:,0], X_new[:,1], c=y, s = 40)\n",
    "plt.title(\"Iris dataset (PCA)\")\n",
    "plt.xlabel(\"1st PC\")\n",
    "plt.ylabel(\"2nd PC\")\n",
    "plt.show()"
   ]
  },
  {
   "attachments": {},
   "cell_type": "markdown",
   "metadata": {},
   "source": [
    "- Perform hierarchical clustering with single linkage and Ward's linkage using [```scipy``` functions](https://docs.scipy.org/doc/scipy/reference/cluster.hierarchy.html)."
   ]
  },
  {
   "cell_type": "code",
   "execution_count": null,
   "metadata": {},
   "outputs": [],
   "source": [
    "from scipy.cluster.hierarchy import dendrogram, linkage, cut_tree"
   ]
  },
  {
   "cell_type": "code",
   "execution_count": null,
   "metadata": {},
   "outputs": [],
   "source": [
    "Z_s = linkage(X, 'single')\n",
    "Z_s[:5] #[idx1, idx2, dist, sample_count]"
   ]
  },
  {
   "cell_type": "code",
   "execution_count": null,
   "metadata": {},
   "outputs": [],
   "source": [
    "Z_w = linkage(X, 'ward')\n",
    "Z_w[:5] #[idx1, idx2, dist, sample_count]"
   ]
  },
  {
   "attachments": {},
   "cell_type": "markdown",
   "metadata": {},
   "source": [
    "- Plot the dendogram and the datapoints in 2D, coloring now by cluster (cut the dendogram to have the same number of clusters of the ground truth). "
   ]
  },
  {
   "cell_type": "code",
   "execution_count": null,
   "metadata": {},
   "outputs": [],
   "source": [
    "plt.figure(figsize=(25, 10))\n",
    "plt.title('Single linkage')\n",
    "plt.xlabel('index')\n",
    "plt.ylabel('distance')\n",
    "dendrogram(Z_s, leaf_rotation=90.,leaf_font_size=8.)\n",
    "plt.show()"
   ]
  },
  {
   "cell_type": "code",
   "execution_count": null,
   "metadata": {},
   "outputs": [],
   "source": [
    "plt.title('Single linkage (truncated)')\n",
    "plt.xlabel('# points')\n",
    "plt.ylabel('distance')\n",
    "dendrogram(Z_s, truncate_mode='lastp', p=3, show_leaf_counts=True, leaf_rotation=90., leaf_font_size=12.)\n",
    "plt.show()"
   ]
  },
  {
   "cell_type": "code",
   "execution_count": null,
   "metadata": {},
   "outputs": [],
   "source": [
    "clusters = cut_tree(Z_s, n_clusters=3)\n",
    "clusters"
   ]
  },
  {
   "cell_type": "code",
   "execution_count": null,
   "metadata": {},
   "outputs": [],
   "source": [
    "plt.figure(figsize=(10,8))\n",
    "plt.scatter(X_new[:,0], X_new[:,1], c=clusters, s = 40)\n",
    "plt.title(\"Single linkage clusters\")\n",
    "plt.xlabel(\"1st PC\")\n",
    "plt.ylabel(\"2nd PC\")\n",
    "plt.show()"
   ]
  },
  {
   "cell_type": "code",
   "execution_count": null,
   "metadata": {},
   "outputs": [],
   "source": [
    "plt.figure(figsize=(25,10))\n",
    "plt.title('Ward\\'s linkage')\n",
    "plt.xlabel('index')\n",
    "plt.ylabel('distance')\n",
    "dendrogram(Z_w,leaf_rotation=90.,leaf_font_size=8.)\n",
    "plt.show()"
   ]
  },
  {
   "cell_type": "code",
   "execution_count": null,
   "metadata": {},
   "outputs": [],
   "source": [
    "plt.title('Ward\\'s linkage (truncated)')\n",
    "plt.xlabel('# points')\n",
    "plt.ylabel('distance')\n",
    "dendrogram(Z_w, truncate_mode='lastp', p=3, show_leaf_counts=True, leaf_rotation=90., leaf_font_size=12.)\n",
    "plt.show()"
   ]
  },
  {
   "cell_type": "code",
   "execution_count": null,
   "metadata": {},
   "outputs": [],
   "source": [
    "clusters = cut_tree(Z_w, n_clusters=3)\n",
    "clusters"
   ]
  },
  {
   "cell_type": "code",
   "execution_count": null,
   "metadata": {},
   "outputs": [],
   "source": [
    "plt.figure(figsize=(10,8))\n",
    "plt.scatter(X_new[:,0], X_new[:,1], c=clusters, s = 40)\n",
    "plt.title(\"Ward\\'s linkage clusters\")\n",
    "plt.xlabel(\"1st PC\")\n",
    "plt.ylabel(\"2nd PC\")\n",
    "plt.show()"
   ]
  },
  {
   "attachments": {},
   "cell_type": "markdown",
   "metadata": {},
   "source": [
    "- Implement your own version of spectral clustering \n",
    "- Apply it to the dataset, setting $k_C$ to be the same of the ground truth (build the graph with $k$-NN having $k_{NN}=5$). Plot the dataspoints in 2D, coloring by cluster."
   ]
  },
  {
   "cell_type": "code",
   "execution_count": null,
   "metadata": {},
   "outputs": [],
   "source": [
    "from sklearn.cluster import SpectralClustering"
   ]
  },
  {
   "cell_type": "code",
   "execution_count": null,
   "metadata": {},
   "outputs": [],
   "source": [
    "sc = SpectralClustering(n_clusters=3, #k_c\n",
    "                        affinity='nearest_neighbors', \n",
    "                        n_neighbors=5) #k_nn\n",
    "sc.fit(X)"
   ]
  },
  {
   "cell_type": "code",
   "execution_count": null,
   "metadata": {},
   "outputs": [],
   "source": [
    "clusters = sc.labels_"
   ]
  },
  {
   "cell_type": "code",
   "execution_count": null,
   "metadata": {},
   "outputs": [],
   "source": [
    "plt.figure(figsize=(10,8))\n",
    "plt.scatter(X_new[:,0], X_new[:,1], c=clusters, s = 40)\n",
    "plt.title(\"Spectral clustering\")\n",
    "plt.xlabel(\"1st PC\")\n",
    "plt.ylabel(\"2nd PC\")\n",
    "plt.show()"
   ]
  }
 ],
 "metadata": {
  "kernelspec": {
   "display_name": "ul2023",
   "language": "python",
   "name": "python3"
  },
  "language_info": {
   "codemirror_mode": {
    "name": "ipython",
    "version": 3
   },
   "file_extension": ".py",
   "mimetype": "text/x-python",
   "name": "python",
   "nbconvert_exporter": "python",
   "pygments_lexer": "ipython3",
   "version": "3.11.3"
  },
  "orig_nbformat": 4
 },
 "nbformat": 4,
 "nbformat_minor": 2
}
